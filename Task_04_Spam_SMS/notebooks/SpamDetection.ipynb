{
 "cells": [
  {
   "cell_type": "code",
   "execution_count": 2,
   "id": "6c496434-106e-41b9-a7ed-fd55fda627c1",
   "metadata": {},
   "outputs": [
    {
     "name": "stderr",
     "output_type": "stream",
     "text": [
      "[nltk_data] Downloading package stopwords to\n",
      "[nltk_data]     C:\\Users\\yaswi\\AppData\\Roaming\\nltk_data...\n",
      "[nltk_data]   Unzipping corpora\\stopwords.zip.\n"
     ]
    },
    {
     "data": {
      "text/plain": [
       "True"
      ]
     },
     "execution_count": 2,
     "metadata": {},
     "output_type": "execute_result"
    }
   ],
   "source": [
    "import nltk\n",
    "\n",
    "# Download stopwords quietly and force re-download\n",
    "nltk.download('stopwords', quiet=False)"
   ]
  },
  {
   "cell_type": "code",
   "execution_count": 3,
   "id": "8e20b62f-c7a9-4a8b-9532-77b2581f9257",
   "metadata": {},
   "outputs": [
    {
     "name": "stdout",
     "output_type": "stream",
     "text": [
      "Stopwords loaded successfully. Example: ['have', 'itself', 'is', 'before', 'he', \"she's\", 'again', 'couldn', \"haven't\", 'not']\n"
     ]
    }
   ],
   "source": [
    "from nltk.corpus import stopwords\n",
    "stop_words = set(stopwords.words('english'))\n",
    "print(\"Stopwords loaded successfully. Example:\", list(stop_words)[:10])"
   ]
  },
  {
   "cell_type": "code",
   "execution_count": 4,
   "id": "1073d8e4-de31-4f2f-939a-38131b681166",
   "metadata": {},
   "outputs": [
    {
     "name": "stdout",
     "output_type": "stream",
     "text": [
      "All libraries imported and stopwords loaded successfully!\n"
     ]
    }
   ],
   "source": [
    "\n",
    "import pandas as pd\n",
    "import numpy as np\n",
    "import re\n",
    "from nltk.corpus import stopwords\n",
    "from sklearn.feature_extraction.text import TfidfVectorizer, CountVectorizer\n",
    "from sklearn.model_selection import train_test_split\n",
    "from sklearn.metrics import classification_report, confusion_matrix, accuracy_score\n",
    "from sklearn.naive_bayes import MultinomialNB\n",
    "from sklearn.linear_model import LogisticRegression\n",
    "from sklearn.svm import LinearSVC\n",
    "import joblib\n",
    "import matplotlib.pyplot as plt\n",
    "import seaborn as sns\n",
    "stop_words = set(stopwords.words('english'))\n",
    "\n",
    "print(\"All libraries imported and stopwords loaded successfully!\")"
   ]
  },
  {
   "cell_type": "code",
   "execution_count": 6,
   "id": "1a29526d-6692-40e7-80c9-73c38d9024d4",
   "metadata": {},
   "outputs": [
    {
     "name": "stdout",
     "output_type": "stream",
     "text": [
      "First 5 rows of dataset:\n",
      "\n",
      "     v1                                                 v2 Unnamed: 2  \\\n",
      "0   ham  Go until jurong point, crazy.. Available only ...        NaN   \n",
      "1   ham                      Ok lar... Joking wif u oni...        NaN   \n",
      "2  spam  Free entry in 2 a wkly comp to win FA Cup fina...        NaN   \n",
      "3   ham  U dun say so early hor... U c already then say...        NaN   \n",
      "4   ham  Nah I don't think he goes to usf, he lives aro...        NaN   \n",
      "\n",
      "  Unnamed: 3 Unnamed: 4  \n",
      "0        NaN        NaN  \n",
      "1        NaN        NaN  \n",
      "2        NaN        NaN  \n",
      "3        NaN        NaN  \n",
      "4        NaN        NaN  \n",
      "\n",
      "Columns in dataset: ['v1', 'v2', 'Unnamed: 2', 'Unnamed: 3', 'Unnamed: 4']\n",
      "\n",
      "Missing values in each column:\n",
      " label      0\n",
      "message    0\n",
      "dtype: int64\n",
      "\n",
      "Class distribution:\n",
      " label\n",
      "ham     4825\n",
      "spam     747\n",
      "Name: count, dtype: int64\n"
     ]
    }
   ],
   "source": [
    "\n",
    "data = pd.read_csv('data/spam.csv', encoding='latin-1')\n",
    "print(\"First 5 rows of dataset:\\n\")\n",
    "print(data.head())\n",
    "print(\"\\nColumns in dataset:\", data.columns.tolist())\n",
    "if 'v1' in data.columns and 'v2' in data.columns:\n",
    "    data = data[['v1','v2']]\n",
    "    data.columns = ['label', 'message']\n",
    "print(\"\\nMissing values in each column:\\n\", data.isnull().sum())\n",
    "print(\"\\nClass distribution:\\n\", data['label'].value_counts())"
   ]
  },
  {
   "cell_type": "code",
   "execution_count": 7,
   "id": "ea8274b2-dad0-4d6d-86bf-bc1861e7760b",
   "metadata": {},
   "outputs": [
    {
     "name": "stdout",
     "output_type": "stream",
     "text": [
      "First 5 cleaned messages:\n",
      "\n",
      "                                             message  \\\n",
      "0  Go until jurong point, crazy.. Available only ...   \n",
      "1                      Ok lar... Joking wif u oni...   \n",
      "2  Free entry in 2 a wkly comp to win FA Cup fina...   \n",
      "3  U dun say so early hor... U c already then say...   \n",
      "4  Nah I don't think he goes to usf, he lives aro...   \n",
      "\n",
      "                                       clean_message  \n",
      "0  go jurong point crazy available bugis n great ...  \n",
      "1                            ok lar joking wif u oni  \n",
      "2  free entry 2 wkly comp win fa cup final tkts 2...  \n",
      "3                u dun say early hor u c already say  \n",
      "4             nah think goes usf lives around though  \n"
     ]
    }
   ],
   "source": [
    "# Preprocess text data\n",
    "\n",
    "def preprocess(text):\n",
    "    # Convert to lowercase\n",
    "    text = text.lower()\n",
    "    # Remove non-alphanumeric characters\n",
    "    text = re.sub(r'\\W', ' ', text)\n",
    "    # Remove stopwords\n",
    "    text = ' '.join(word for word in text.split() if word not in stop_words)\n",
    "    return text\n",
    "\n",
    "# Apply preprocessing to all messages\n",
    "data['clean_message'] = data['message'].apply(preprocess)\n",
    "print(\"First 5 cleaned messages:\\n\")\n",
    "print(data[['message', 'clean_message']].head())"
   ]
  },
  {
   "cell_type": "code",
   "execution_count": 8,
   "id": "d822c14c-4bbc-47b8-a606-48888e0e06bb",
   "metadata": {},
   "outputs": [
    {
     "name": "stdout",
     "output_type": "stream",
     "text": [
      "Feature extraction complete.\n",
      "Training samples: 4457, Test samples: 1115\n"
     ]
    }
   ],
   "source": [
    "# Feature extraction and train-test split\n",
    "from sklearn.feature_extraction.text import TfidfVectorizer\n",
    "from sklearn.model_selection import train_test_split\n",
    "vectorizer = TfidfVectorizer()\n",
    "X = vectorizer.fit_transform(data['clean_message'])\n",
    "y = data['label'].map({'ham': 0, 'spam': 1})\n",
    "\n",
    "# Split data into train and test sets (80% train, 20% test)\n",
    "X_train, X_test, y_train, y_test = train_test_split(\n",
    "    X, y, test_size=0.2, random_state=42\n",
    ")\n",
    "\n",
    "print(\"Feature extraction complete.\")\n",
    "print(f\"Training samples: {X_train.shape[0]}, Test samples: {X_test.shape[0]}\")"
   ]
  },
  {
   "cell_type": "code",
   "execution_count": 9,
   "id": "27f1c9a3-960f-432b-b156-c6c36b267bcc",
   "metadata": {},
   "outputs": [
    {
     "name": "stdout",
     "output_type": "stream",
     "text": [
      "Naive Bayes Performance:\n",
      "\n",
      "              precision    recall  f1-score   support\n",
      "\n",
      "           0       0.97      1.00      0.98       965\n",
      "           1       1.00      0.80      0.89       150\n",
      "\n",
      "    accuracy                           0.97      1115\n",
      "   macro avg       0.98      0.90      0.94      1115\n",
      "weighted avg       0.97      0.97      0.97      1115\n",
      "\n",
      "Confusion Matrix:\n",
      " [[965   0]\n",
      " [ 30 120]]\n",
      "Accuracy: 0.9731\n",
      "\n",
      "\n",
      "Logistic Regression Performance:\n",
      "\n",
      "              precision    recall  f1-score   support\n",
      "\n",
      "           0       0.94      0.99      0.97       965\n",
      "           1       0.95      0.62      0.75       150\n",
      "\n",
      "    accuracy                           0.94      1115\n",
      "   macro avg       0.95      0.81      0.86      1115\n",
      "weighted avg       0.94      0.94      0.94      1115\n",
      "\n",
      "Accuracy: 0.9444\n",
      "\n",
      "\n",
      "Linear SVM Performance:\n",
      "\n",
      "              precision    recall  f1-score   support\n",
      "\n",
      "           0       0.98      1.00      0.99       965\n",
      "           1       0.98      0.84      0.90       150\n",
      "\n",
      "    accuracy                           0.98      1115\n",
      "   macro avg       0.98      0.92      0.94      1115\n",
      "weighted avg       0.98      0.98      0.98      1115\n",
      "\n",
      "Accuracy: 0.9758\n"
     ]
    }
   ],
   "source": [
    "\n",
    "# Train classifiers and evaluate\n",
    "from sklearn.naive_bayes import MultinomialNB\n",
    "from sklearn.linear_model import LogisticRegression\n",
    "from sklearn.svm import LinearSVC\n",
    "from sklearn.metrics import classification_report, confusion_matrix, accuracy_score\n",
    "nb = MultinomialNB()\n",
    "nb.fit(X_train, y_train)\n",
    "y_pred_nb = nb.predict(X_test)\n",
    "\n",
    "print(\"Naive Bayes Performance:\\n\")\n",
    "print(classification_report(y_test, y_pred_nb))\n",
    "print(\"Confusion Matrix:\\n\", confusion_matrix(y_test, y_pred_nb))\n",
    "print(f\"Accuracy: {accuracy_score(y_test, y_pred_nb):.4f}\\n\\n\")\n",
    "lr = LogisticRegression(max_iter=1000)\n",
    "lr.fit(X_train, y_train)\n",
    "y_pred_lr = lr.predict(X_test)\n",
    "\n",
    "print(\"Logistic Regression Performance:\\n\")\n",
    "print(classification_report(y_test, y_pred_lr))\n",
    "print(f\"Accuracy: {accuracy_score(y_test, y_pred_lr):.4f}\\n\\n\")\n",
    "svm = LinearSVC()\n",
    "svm.fit(X_train, y_train)\n",
    "y_pred_svm = svm.predict(X_test)\n",
    "\n",
    "print(\"Linear SVM Performance:\\n\")\n",
    "print(classification_report(y_test, y_pred_svm))\n",
    "print(f\"Accuracy: {accuracy_score(y_test, y_pred_svm):.4f}\")"
   ]
  },
  {
   "cell_type": "code",
   "execution_count": 10,
   "id": "7267ef3f-78bf-415f-aa46-0d381891c0b8",
   "metadata": {},
   "outputs": [
    {
     "name": "stdout",
     "output_type": "stream",
     "text": [
      "Model and vectorizer saved in models/\n"
     ]
    }
   ],
   "source": [
    "\n",
    "import joblib\n",
    "import os\n",
    "os.makedirs('models', exist_ok=True)\n",
    "joblib.dump(nb, 'models/spam_model.pkl')\n",
    "joblib.dump(vectorizer, 'models/vectorizer.pkl')\n",
    "\n",
    "print(\"Model and vectorizer saved in models/\")"
   ]
  },
  {
   "cell_type": "code",
   "execution_count": 11,
   "id": "3eff1ae2-3960-4024-b3e9-804102b363dd",
   "metadata": {},
   "outputs": [
    {
     "name": "stdout",
     "output_type": "stream",
     "text": [
      "Classification reports saved in reports/\n"
     ]
    }
   ],
   "source": [
    "\n",
    "import os\n",
    "from sklearn.metrics import classification_report\n",
    "os.makedirs('reports', exist_ok=True)\n",
    "nb_report = classification_report(y_test, y_pred_nb)\n",
    "with open('reports/nb_classification_report.txt', 'w') as f:\n",
    "    f.write(nb_report)\n",
    "lr_report = classification_report(y_test, y_pred_lr)\n",
    "with open('reports/lr_classification_report.txt', 'w') as f:\n",
    "    f.write(lr_report)\n",
    "svm_report = classification_report(y_test, y_pred_svm)\n",
    "with open('reports/svm_classification_report.txt', 'w') as f:\n",
    "    f.write(svm_report)\n",
    "\n",
    "print(\"Classification reports saved in reports/\")"
   ]
  },
  {
   "cell_type": "code",
   "execution_count": 12,
   "id": "769856af-dc66-4cfb-9aab-0df17beb4f98",
   "metadata": {},
   "outputs": [
    {
     "data": {
      "image/png": "[encoded data removed]",
      "text/plain": [
       "<Figure size 600x400 with 2 Axes>"
      ]
     },
     "metadata": {},
     "output_type": "display_data"
    },
    {
     "name": "stdout",
     "output_type": "stream",
     "text": [
      "Confusion matrix plot saved in reports/nb_confusion_matrix.png\n"
     ]
    }
   ],
   "source": [
    "import matplotlib.pyplot as plt\n",
    "import seaborn as sns\n",
    "from sklearn.metrics import confusion_matrix\n",
    "cm = confusion_matrix(y_test, y_pred_nb)\n",
    "plt.figure(figsize=(6,4))\n",
    "sns.heatmap(cm, annot=True, fmt='d', cmap='Blues')\n",
    "plt.title(\"Naive Bayes Confusion Matrix\")\n",
    "plt.xlabel(\"Predicted\")\n",
    "plt.ylabel(\"Actual\")\n",
    "plt.savefig('reports/nb_confusion_matrix.png')\n",
    "plt.show()\n",
    "\n",
    "print(\"Confusion matrix plot saved in reports/nb_confusion_matrix.png\")"
   ]
  },
  {
   "cell_type": "code",
   "execution_count": 1,
   "id": "06bb1309-62e1-4863-a0ab-84f13bad693b",
   "metadata": {},
   "outputs": [
    {
     "name": "stdout",
     "output_type": "stream",
     "text": [
      "C:\\Users\\yaswi\\Desktop\\CODSOFT\\Task_04_Spam_SMS\\notebooks\n"
     ]
    }
   ],
   "source": [
    "import os \n",
    "print(os.getcwd())"
   ]
  },
  {
   "cell_type": "code",
   "execution_count": 3,
   "id": "aea8a78d-b6da-4850-b5f3-ac13dc02f619",
   "metadata": {},
   "outputs": [
    {
     "name": "stdout",
     "output_type": "stream",
     "text": [
      "['.ipynb_checkpoints', 'data', 'models', 'notebooks', 'reports', 'requirements.txt', 'src', 'venv']\n"
     ]
    }
   ],
   "source": [
    "print(os.listdir(\"..\"))"
   ]
  },
  {
   "cell_type": "code",
   "execution_count": 5,
   "id": "7d911e02-949c-444b-bb48-a728981174bc",
   "metadata": {},
   "outputs": [
    {
     "name": "stdout",
     "output_type": "stream",
     "text": [
      "['spam_model.pkl', 'vectorizer.pkl']\n"
     ]
    }
   ],
   "source": [
    "print(os.listdir(\"../models\"))\n"
   ]
  },
  {
   "cell_type": "code",
   "execution_count": 11,
   "id": "d23b041b-71b7-4708-ab5a-81ff0456e13d",
   "metadata": {},
   "outputs": [
    {
     "name": "stdout",
     "output_type": "stream",
     "text": [
      "Message: Congratulations! You’ve won a $500 gift card. Click here to claim your prize!\n",
      "Prediction: Spam\n",
      "\n",
      "Message: Hey, are we still meeting for lunch today?\n",
      "Prediction: Not Spam\n",
      "\n",
      "Message: You have been selected for a free vacation. Reply YES to claim.\n",
      "Prediction: Spam\n",
      "\n"
     ]
    }
   ],
   "source": [
    "import joblib\n",
    "model = joblib.load(\"../models/spam_model.pkl\")\n",
    "vectorizer = joblib.load(\"../models/vectorizer.pkl\")\n",
    "def predict_message(message):\n",
    "    data = vectorizer.transform([message])\n",
    "    prediction = model.predict(data)[0]\n",
    "    return \"Spam\" if prediction == 1 else \"Not Spam\"\n",
    "samples = [\n",
    "    \"Congratulations! You’ve won a $500 gift card. Click here to claim your prize!\",\n",
    "    \"Hey, are we still meeting for lunch today?\",\n",
    "    \"You have been selected for a free vacation. Reply YES to claim.\"\n",
    "]\n",
    "\n",
    "for text in samples:\n",
    "    print(f\"Message: {text}\")\n",
    "    print(f\"Prediction: {predict_message(text)}\\n\")\n",
    "    "
   ]
  },
  {
   "cell_type": "code",
   "execution_count": 12,
   "id": "6c3e7bd4-9fce-427c-8d66-a2642e4e29d1",
   "metadata": {},
   "outputs": [
    {
     "name": "stdout",
     "output_type": "stream",
     "text": [
      "spam_detector.py saved successfully at: ../src/spam_detector.py\n"
     ]
    }
   ],
   "source": [
    "import os\n",
    "code = \"\"\"import joblib\n",
    "\n",
    "# Load the trained model and vectorizer\n",
    "model = joblib.load(\"../models/spam_model.pkl\")\n",
    "vectorizer = joblib.load(\"../models/vectorizer.pkl\")\n",
    "\n",
    "# Function to predict whether a message is spam or not\n",
    "def predict_message(message):\n",
    "    data = vectorizer.transform([message])\n",
    "    prediction = model.predict(data)[0]\n",
    "    return \"Spam\" if prediction == 1 else \"Not Spam\"\n",
    "\n",
    "if _name_ == \"_main_\":\n",
    "    samples = [\n",
    "        \"Congratulations! You’ve won a $500 gift card. Click here to claim your prize!\",\n",
    "        \"Hey, are we still meeting for lunch today?\",\n",
    "        \"You have been selected for a free vacation. Reply YES to claim.\"\n",
    "    ]\n",
    "\n",
    "    for text in samples:\n",
    "        print(f\"Message: {text}\")\n",
    "        print(f\"Prediction: {predict_message(text)}\\\\n\")\n",
    "\"\"\"\n",
    "os.makedirs(\"../src\", exist_ok=True)\n",
    "file_path = \"../src/spam_detector.py\"\n",
    "\n",
    "with open(file_path, \"w\") as f:\n",
    "     f.write(code)\n",
    "\n",
    "print(f\"spam_detector.py saved successfully at: {file_path}\")\n",
    "\n",
    "\n"
   ]
  },
  {
   "cell_type": "code",
   "execution_count": 15,
   "id": "3205555e-a983-4fc7-95b9-9a0cb6587915",
   "metadata": {},
   "outputs": [
    {
     "name": "stdout",
     "output_type": "stream",
     "text": [
      "C:\\Users\\yaswi\\Desktop\\CODSOFT\\Task_04_Spam_SMS\\notebooks\n"
     ]
    }
   ],
   "source": [
    "import os \n",
    "print (os.getcwd())"
   ]
  },
  {
   "cell_type": "code",
   "execution_count": null,
   "id": "7be229cd-66d3-4c87-80f0-8bbdb5547950",
   "metadata": {},
   "outputs": [],
   "source": []
  }
 ],
 "metadata": {
  "kernelspec": {
   "display_name": "Python 3 (ipykernel)",
   "language": "python",
   "name": "python3"
  },
  "language_info": {
   "codemirror_mode": {
    "name": "ipython",
    "version": 3
   },
   "file_extension": ".py",
   "mimetype": "text/x-python",
   "name": "python",
   "nbconvert_exporter": "python",
   "pygments_lexer": "ipython3",
   "version": "3.13.7"
  }
 },
 "nbformat": 4,
 "nbformat_minor": 5
}
